{
 "cells": [
  {
   "cell_type": "code",
   "execution_count": 3,
   "metadata": {},
   "outputs": [],
   "source": [
    "import seaborn as sbn\n",
    "import matplotlib.pyplot as plt\n",
    "import pandas as pd\n",
    "import numpy as np\n",
    "from scipy import stats\n",
    "%matplotlib inline"
   ]
  },
  {
   "cell_type": "markdown",
   "metadata": {},
   "source": [
    "# Framework of ML\n",
    "\n",
    "**Supervised Machine Learning**\n",
    "\n",
    "1. ML sysstems learn\n",
    "2. how to combine input\n",
    "3. to produce usefull predictions\n",
    "4. on never before seen data\n",
    "   \n",
    "**Label** : is the varibale we re predicting \n",
    "\n",
    "**Features** : are the input varibales describing our data\n",
    "\n",
    "**Example** :  \n",
    "   1. Labeled example has feature and label.\n",
    "   2. Unlabeled examples has only feature.\n",
    "   3. Modesl maps examples to predicted labels.\n",
    "      1. Defined by internal parameters which are learned.\n",
    "      2. Training means creating or learning the model. That is, you show the model labeled examples and enable the model to gradually learn the relationships between features and label.\n",
    "      3. Inference means applying the trained model to unlabeled examples. That is, you use the trained model to make useful predictions (y'). For example, during inference, you can predict medianHouseValue for new unlabeled examples.\n",
    "\n",
    "|housingMedianAge(feature)|totalRooms(feature)|totalBedrooms(feature)|medianHouseValue(label)|\n",
    "|---|---|----|---|\n",
    "|15|5612|1283|66900|\n",
    "|19|7650|1901|80100|\n",
    "|17|720|174|85700|\n",
    "|14|1501|337|73400|\n",
    "|20|1454|326|65500|\n",
    "\n",
    "## Regressiong vs Classification\n",
    "\n",
    "1. A regression model predicts continuous values. like values or x,y things\n",
    "2. A classification model predicts discrete values. yes or no 1 or 0 boolean values."
   ]
  },
  {
   "cell_type": "code",
   "execution_count": 4,
   "metadata": {},
   "outputs": [
    {
     "name": "stdout",
     "output_type": "stream",
     "text": [
      "0.11520053859619095 0.4939461545211782\n"
     ]
    },
    {
     "data": {
      "text/plain": [
       "<matplotlib.legend.Legend at 0x7f1db5397c10>"
      ]
     },
     "execution_count": 4,
     "metadata": {},
     "output_type": "execute_result"
    },
    {
     "data": {
      "image/png": "[encoded data removed]",
      "text/plain": [
       "<Figure size 360x360 with 1 Axes>"
      ]
     },
     "metadata": {
      "needs_background": "light"
     },
     "output_type": "display_data"
    }
   ],
   "source": [
    "s=pd.DataFrame(np.random.randn(10,4),columns=list('ABCD'))\n",
    "slope, intercept, r_value, p_value, std_err = stats.linregress(s['A'],s['B'])\n",
    "print(slope,intercept)\n",
    "ax=sbn.lmplot(x='A',y='B',data=s,x_estimator=np.mean,line_kws={'label':\"y={0:.1f}x+{1:.1f}\".format(slope,intercept)})\n",
    "plt.legend()\n"
   ]
  },
  {
   "cell_type": "markdown",
   "metadata": {},
   "source": [
    "## Regression Model\n",
    "\n",
    "We define our model as $y^{'} = b + \\sum_{w_{i},x_{i} =1}^{i=n} w_{i}.x_{i}$, where i to n define how many predictor we have and for each **predictor(x)** we have **w** which is the weight of that predictor on the **prediction(y)**. and the b is the bias or $w_{0}$ that is the y intercept.\n",
    "\n",
    "## Loss function for Regression\n",
    "\n",
    "$L_{2} = \\sum_{x,y} (y-prediction(x)^2)$\n",
    "\n",
    "since line is not fitted through every points there is loss of information of prediction, points above the line have negative loss as line is predicting info below it and for points which are below the lines loss is positive as predicition is above the actual point.\n",
    "\n",
    "when training the model we want to minimise this $L_{2}$.\n",
    "\n",
    "some time we divide our $L_{2}$ by $||D||=\\text{length of dataset}$ that is our avergae our loss function that is mean square error.\n",
    "\n",
    "## Training or loss minitation\n",
    "1. In supervised learning, a machine learning algorithm builds a model by examining many examples and attempting to find a model that minimizes loss; this process is called empirical risk minimization.\n",
    "2. Loss is the penalty for a bad prediction. That is, loss is a number indicating how bad the model's prediction was on a single example. If the model's prediction is perfect, the loss is zero; otherwise, the loss is greater. The goal of training a model is to find a set of weights and biases that have low loss, on average, across all examples.\n",
    "\n",
    "![FLowchart](./diagram/notes_1_flowchart.drawio.svg \"FLowChart\")\n",
    "\n",
    "\n"
   ]
  },
  {
   "cell_type": "code",
   "execution_count": 42,
   "metadata": {},
   "outputs": [
    {
     "data": {
      "text/plain": [
       "<matplotlib.collections.LineCollection at 0x7f1d6cc4f7c0>"
      ]
     },
     "execution_count": 42,
     "metadata": {},
     "output_type": "execute_result"
    },
    {
     "data": {
      "image/png": "[encoded data removed]",
      "text/plain": [
       "<Figure size 432x288 with 1 Axes>"
      ]
     },
     "metadata": {
      "needs_background": "light"
     },
     "output_type": "display_data"
    }
   ],
   "source": [
    "s={}\n",
    "for i in range(-10,11,1):\n",
    "    s[i]={'model_parameter':i+5,r'$L_{2}$':i**2+10}\n",
    "s=pd.DataFrame.from_dict(s,orient='index')\n",
    "sbn.lineplot(data=s,x='model_parameter',y=r'$L_{2}$')\n",
    "plt.vlines(x=5.0,ymin=0,ymax=10,color='red')\n",
    "plt.vlines(x=0.0,ymin=0,ymax=35,color='blue')\n",
    "plt.vlines(x=10.0,ymin=0,ymax=35,color='green')"
   ]
  },
  {
   "cell_type": "markdown",
   "metadata": {},
   "source": [
    "we can inscrease the learning rate or decrease it via choosing our model paramter and thier weight blue line reperesent our data hase more of gradient is lowering or our loss are not decreasing  and green line repersent reverse. red line reperesnet the model parameter at which our loss is minimum but is not zero we slowly reach a minimum part from a gradient this is gradient desence algorithm.\n",
    "\n",
    "how many steps are needed to check for l2 values and reach minima is depeneded on model learning rate\n",
    "\n",
    "this is great for convex problems where weights an start from any value hence we are able to get proper gradient and one minima is there. but for non convex problems like neural nets we can have different shapes or multiple minimas intermediated by local maximas.\n",
    "\n",
    "> As noted, the gradient vector has both a direction and a magnitude. Gradient descent algorithms multiply the gradient by a scalar known as the learning rate (also sometimes called step size) to determine the next point. For example, if the gradient magnitude is 2.5 and the learning rate is 0.01, then the gradient descent algorithm will pick the next point 0.025 away from the previous point.\n",
    "\n",
    "> There's a Goldilocks learning rate for every regression problem. The Goldilocks value is related to how flat the loss function is. If you know the gradient of the loss function is small then you can safely try a larger learning rate, which compensates for the small gradient and results in a larger step size."
   ]
  }
 ],
 "metadata": {
  "kernelspec": {
   "display_name": "Python 3.10.4 ('base')",
   "language": "python",
   "name": "python3"
  },
  "language_info": {
   "codemirror_mode": {
    "name": "ipython",
    "version": 3
   },
   "file_extension": ".py",
   "mimetype": "text/x-python",
   "name": "python",
   "nbconvert_exporter": "python",
   "pygments_lexer": "ipython3",
   "version": "3.10.4"
  },
  "orig_nbformat": 4,
  "vscode": {
   "interpreter": {
    "hash": "9534654225c5c89ffa575e2a1622023337d5697e3b44a848563b95d3d142c6df"
   }
  }
 },
 "nbformat": 4,
 "nbformat_minor": 2
}
